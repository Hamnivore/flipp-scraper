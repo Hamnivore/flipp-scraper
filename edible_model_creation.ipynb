{
 "cells": [
  {
   "cell_type": "code",
   "execution_count": 18,
   "metadata": {},
   "outputs": [],
   "source": [
    "import json\n",
    "from pathlib import Path\n",
    "from tqdm import tqdm\n",
    "from openai import OpenAI\n",
    "import time\n",
    "from datetime import datetime\n",
    "\n",
    "# Initialize OpenAI client\n",
    "client = OpenAI()\n",
    "\n",
    "def log_info(message):\n",
    "    \"\"\"Log information to a file.\"\"\"\n",
    "    timestamp = datetime.now().strftime(\"%Y-%m-%d %H:%M:%S\")\n",
    "    with open('batch_processing_log.txt', 'a') as log_file:\n",
    "        log_file.write(f\"{timestamp} - {message}\\n\")\n",
    "    print(message)"
   ]
  },
  {
   "cell_type": "code",
   "execution_count": 19,
   "metadata": {},
   "outputs": [
    {
     "name": "stderr",
     "output_type": "stream",
     "text": [
      "Loading Walmart_Flyer_20241016-20241022.json: 100%|██████████| 61/61 [00:00<00:00, 406.32it/s]                        "
     ]
    },
    {
     "name": "stdout",
     "output_type": "stream",
     "text": [
      "\n",
      "Loaded 4005 items from 61 flyers\n",
      "Total items loaded: 4005\n"
     ]
    },
    {
     "name": "stderr",
     "output_type": "stream",
     "text": [
      "\n"
     ]
    }
   ],
   "source": [
    "def load_flyer_data():\n",
    "    data_dir = Path('flyer_data')\n",
    "    all_items = []\n",
    "    \n",
    "    # Create progress bar\n",
    "    pbar = tqdm(list(data_dir.glob('*.json')), desc=\"Loading flyer data\")\n",
    "    \n",
    "    for file in pbar:\n",
    "        try:\n",
    "            # Update progress bar description\n",
    "            pbar.set_description(f\"Loading {file.name}\")\n",
    "            \n",
    "            with open(file, 'r', encoding='utf-8') as f:\n",
    "                flyer_data = json.load(f)\n",
    "            \n",
    "            store = flyer_data['store']\n",
    "            for item in flyer_data['items']:\n",
    "                all_items.append({\n",
    "                    'store': store,\n",
    "                    'name': item['name'],\n",
    "                    'brand': item.get('brand', ''),\n",
    "                    'price': item['price'],\n",
    "                    'image': item.get('cutout_image_url', '')  # Use .get() with a default value\n",
    "                })\n",
    "        except Exception as e:\n",
    "            print(f\"\\nError loading flyer {file.name}: {str(e)}\")\n",
    "            continue\n",
    "    \n",
    "    print(f\"\\nLoaded {len(all_items)} items from {len(list(data_dir.glob('*.json')))} flyers\")\n",
    "    return all_items\n",
    "\n",
    "# Load the flyer data\n",
    "items = load_flyer_data()\n",
    "print(f\"Total items loaded: {len(items)}\")"
   ]
  },
  {
   "cell_type": "code",
   "execution_count": 21,
   "metadata": {},
   "outputs": [
    {
     "name": "stderr",
     "output_type": "stream",
     "text": [
      "Preparing batch input: 100%|██████████| 4005/4005 [00:00<00:00, 400959.24it/s]"
     ]
    },
    {
     "name": "stdout",
     "output_type": "stream",
     "text": [
      "Prepared 4005 items for batch processing\n",
      "Batch input file created: batch_input.jsonl\n"
     ]
    },
    {
     "name": "stderr",
     "output_type": "stream",
     "text": [
      "\n"
     ]
    }
   ],
   "source": [
    "def prepare_batch_input(items):\n",
    "    \"\"\"Prepare the input file for the Batch API.\"\"\"\n",
    "    batch_input = []\n",
    "    for i, item in enumerate(tqdm(items, desc=\"Preparing batch input\")):\n",
    "        prompt = f\"\"\"Analyze the following product: \"{item['name']}\"\n",
    "\n",
    "1. Is this product edible (consumable as food)? Respond with 'True' or 'False'.\n",
    "2. On a scale of 1-10, how nutritious is this product from a macronutrient perspective?\n",
    "   Consider protein, healthy fats, and minerals. Foods containing seed oils, soybeans, and corn byproducts should be scored lower.\n",
    "   (1 being least nutritious, 10 being most nutritious). Non-edibles should be scored 1.\n",
    "\n",
    "Only respond with JSON, in the following format. Ensure that the JSON is properly closed and not missing any quotes:\n",
    "{{\n",
    "  \"edible\": \"True/False\",\n",
    "  \"nutrition_score\": 1-10\n",
    "}}\"\"\"\n",
    "\n",
    "        batch_input.append({\n",
    "            \"custom_id\": f\"item-{i}\",\n",
    "            \"method\": \"POST\",\n",
    "            \"url\": \"/v1/chat/completions\",\n",
    "            \"body\": {\n",
    "                \"model\": \"gpt-4o-mini\",\n",
    "                \"messages\": [\n",
    "                    {\"role\": \"system\", \"content\": \"You are a nutritionist and food expert.\"},\n",
    "                    {\"role\": \"user\", \"content\": prompt}\n",
    "                ],\n",
    "                \"max_tokens\": 30\n",
    "            }\n",
    "        })\n",
    "    \n",
    "    with open('batch_input.jsonl', 'w') as f:\n",
    "        for item in batch_input:\n",
    "            f.write(json.dumps(item) + '\\n')\n",
    "    \n",
    "    print(f\"Prepared {len(batch_input)} items for batch processing\")\n",
    "    return batch_input\n",
    "\n",
    "# Prepare the batch input\n",
    "batch_input = prepare_batch_input(items)\n",
    "print(f\"Batch input file created: batch_input.jsonl\")"
   ]
  },
  {
   "cell_type": "code",
   "execution_count": 22,
   "metadata": {},
   "outputs": [
    {
     "name": "stdout",
     "output_type": "stream",
     "text": [
      "Uploading input file...\n",
      "File uploaded successfully. File ID: file-KYd3XXt6KQG1AaNGafkFXibX\n",
      "File uploaded successfully. File ID: file-KYd3XXt6KQG1AaNGafkFXibX\n",
      "File ID for batch processing: file-KYd3XXt6KQG1AaNGafkFXibX\n",
      "File ID for batch processing: file-KYd3XXt6KQG1AaNGafkFXibX\n"
     ]
    }
   ],
   "source": [
    "def upload_file(client):\n",
    "    \"\"\"Upload the input file for the Batch API.\"\"\"\n",
    "    print(\"Uploading input file...\")\n",
    "    with open('batch_input.jsonl', 'rb') as f:\n",
    "        file = client.files.create(file=f, purpose='batch')\n",
    "    log_info(f\"File uploaded successfully. File ID: {file.id}\")\n",
    "    return file.id\n",
    "\n",
    "# Upload the file\n",
    "file_id = upload_file(client)\n",
    "log_info(f\"File ID for batch processing: {file_id}\")"
   ]
  },
  {
   "cell_type": "code",
   "execution_count": 23,
   "metadata": {},
   "outputs": [
    {
     "name": "stdout",
     "output_type": "stream",
     "text": [
      "Creating batch job...\n",
      "Batch created successfully. Batch ID: batch_67187fd99b308190b80c530a4271be3f\n",
      "Batch ID: batch_67187fd99b308190b80c530a4271be3f\n"
     ]
    }
   ],
   "source": [
    "def create_batch(client, file_id):\n",
    "    \"\"\"Create and submit the batch job.\"\"\"\n",
    "    print(\"Creating batch job...\")\n",
    "    batch = client.batches.create(\n",
    "        input_file_id=file_id,\n",
    "        endpoint=\"/v1/chat/completions\",\n",
    "        completion_window=\"24h\"\n",
    "    )\n",
    "    log_info(f\"Batch created successfully. Batch ID: {batch.id}\")\n",
    "    return batch.id\n",
    "\n",
    "# Create the batch\n",
    "batch_id = create_batch(client, file_id)\n",
    "log_info(f\"Batch ID: {batch_id}\")"
   ]
  },
  {
   "cell_type": "code",
   "execution_count": 24,
   "metadata": {},
   "outputs": [
    {
     "name": "stdout",
     "output_type": "stream",
     "text": [
      "Checking batch status...\n",
      "Current status: in_progress\n",
      "Current status: in_progress\n"
     ]
    }
   ],
   "source": [
    "def check_batch_status(client, batch_id):\n",
    "    \"\"\"Check the status of the batch job.\"\"\"\n",
    "    log_info(\"Checking batch status...\")\n",
    "    while True:\n",
    "        batch = client.batches.retrieve(batch_id)\n",
    "        log_info(f\"Current status: {batch.status}\")\n",
    "        if batch.status == 'completed':\n",
    "            log_info(f\"Batch completed. Output file ID: {batch.output_file_id}\")\n",
    "            return batch.output_file_id\n",
    "        elif batch.status in ['failed', 'expired', 'cancelled']:\n",
    "            error_message = f\"Batch failed with status: {batch.status}\"\n",
    "            log_info(error_message)\n",
    "            raise Exception(error_message)\n",
    "        time.sleep(60)  # Wait for 1 minute before checking again\n",
    "\n",
    "# Check batch status\n",
    "output_file_id = check_batch_status(client, batch_id)\n",
    "log_info(f\"Output file ID: {output_file_id}\")"
   ]
  },
  {
   "cell_type": "code",
   "execution_count": null,
   "metadata": {},
   "outputs": [],
   "source": [
    "def retrieve_results(client, file_id):\n",
    "    \"\"\"Retrieve and process the batch results.\"\"\"\n",
    "    print(\"Retrieving batch results...\")\n",
    "    file_content = client.files.content(file_id)\n",
    "    results = []\n",
    "    for line in tqdm(file_content.splitlines(), desc=\"Processing results\"):\n",
    "        result = json.loads(line)\n",
    "        custom_id = result['custom_id']\n",
    "        response = json.loads(result['response']['body']['choices'][0]['message']['content'])\n",
    "        results.append({\n",
    "            'id': custom_id,\n",
    "            **response\n",
    "        })\n",
    "    print(f\"Retrieved and processed {len(results)} results\")\n",
    "    return results\n",
    "\n",
    "# Retrieve and process results\n",
    "results = retrieve_results(client, output_file_id)\n",
    "print(f\"Total results processed: {len(results)}\")"
   ]
  },
  {
   "cell_type": "code",
   "execution_count": null,
   "metadata": {},
   "outputs": [],
   "source": [
    "# Update items with results\n",
    "print(\"Updating items with results...\")\n",
    "for result in tqdm(results, desc=\"Updating items\"):\n",
    "    item_index = int(result['id'].split('-')[1])\n",
    "    items[item_index].update(result)\n",
    "\n",
    "# Save the updated items to a file\n",
    "with open('classified_items.json', 'w', encoding='utf-8') as f:\n",
    "    json.dump(items, f, indent=2)\n",
    "\n",
    "print(f\"Saved {len(items)} classified items to classified_items.json\")\n",
    "\n",
    "# Display a sample of the results\n",
    "print(\"\\nSample of classified items:\")\n",
    "for item in items[:5]:\n",
    "    print(json.dumps(item, indent=2))\n",
    "    print()"
   ]
  }
 ],
 "metadata": {
  "kernelspec": {
   "display_name": "venv",
   "language": "python",
   "name": "python3"
  },
  "language_info": {
   "codemirror_mode": {
    "name": "ipython",
    "version": 3
   },
   "file_extension": ".py",
   "mimetype": "text/x-python",
   "name": "python",
   "nbconvert_exporter": "python",
   "pygments_lexer": "ipython3",
   "version": "3.8.0"
  }
 },
 "nbformat": 4,
 "nbformat_minor": 2
}
